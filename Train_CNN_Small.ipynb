{
 "cells": [
  {
   "cell_type": "code",
   "execution_count": 10,
   "metadata": {},
   "outputs": [],
   "source": [
    "import numpy as np\n",
    "\n",
    "data=np.load('data.npy')\n",
    "target=np.load('target.npy')"
   ]
  },
  {
   "cell_type": "code",
   "execution_count": 11,
   "metadata": {},
   "outputs": [],
   "source": [
    "from keras.models import Sequential\n",
    "from keras.layers import Dense,Activation,Flatten\n",
    "from keras.layers import Conv2D,MaxPooling2D,Dropout\n",
    "from keras.callbacks import ModelCheckpoint\n",
    "\n",
    "model=Sequential()\n",
    "\n",
    "model.add(Conv2D(64,(3,3),input_shape=(100,100,1)))\n",
    "model.add(Activation('relu'))\n",
    "model.add(MaxPooling2D(pool_size=(2,2)))\n",
    "#The first CNN layer followed by Relu and MaxPooling layers\n",
    "\n",
    "model.add(Conv2D(32,(3,3)))\n",
    "model.add(Activation('relu'))\n",
    "model.add(MaxPooling2D(pool_size=(2,2)))\n",
    "#The second convolution layer followed by Relu and MaxPooling layers\n",
    "\n",
    "model.add(Flatten())\n",
    "#Flatten layer to stack the output convolutions from second convolution layer\n",
    "model.add(Dropout(0.5))\n",
    "model.add(Dense(1000,activation='relu'))\n",
    "model.add(Dropout(0.5))\n",
    "model.add(Dense(128,activation='relu'))\n",
    "model.add(Dropout(0.5))\n",
    "model.add(Dense(64,activation='relu'))\n",
    "#Dense layer of 64 neurons\n",
    "model.add(Dense(2,activation='softmax'))\n",
    "#The Final layer with two outputs for two categories\n",
    "\n",
    "model.compile(loss='categorical_crossentropy',optimizer='adam',metrics=['accuracy'])"
   ]
  },
  {
   "cell_type": "code",
   "execution_count": 12,
   "metadata": {},
   "outputs": [],
   "source": [
    "from sklearn.model_selection import train_test_split\n",
    "\n",
    "train_data,test_data,train_target,test_target=train_test_split(data,target,test_size=0.1)"
   ]
  },
  {
   "cell_type": "code",
   "execution_count": 13,
   "metadata": {},
   "outputs": [
    {
     "name": "stdout",
     "output_type": "stream",
     "text": [
      "WARNING:tensorflow:From C:\\Users\\Admin\\anaconda3\\lib\\site-packages\\keras\\backend\\tensorflow_backend.py:422: The name tf.global_variables is deprecated. Please use tf.compat.v1.global_variables instead.\n",
      "\n",
      "Train on 551 samples, validate on 62 samples\n",
      "Epoch 1/20\n",
      "551/551 [==============================] - 34s 62ms/step - loss: 0.5494 - accuracy: 0.7840 - val_loss: 0.5610 - val_accuracy: 0.7581\n",
      "Epoch 2/20\n",
      "551/551 [==============================] - 35s 63ms/step - loss: 0.5315 - accuracy: 0.7913 - val_loss: 0.5910 - val_accuracy: 0.7581\n",
      "Epoch 3/20\n",
      "551/551 [==============================] - 32s 58ms/step - loss: 0.5336 - accuracy: 0.7913 - val_loss: 0.5546 - val_accuracy: 0.7581\n",
      "Epoch 4/20\n",
      "551/551 [==============================] - 30s 55ms/step - loss: 0.5274 - accuracy: 0.7913 - val_loss: 0.5610 - val_accuracy: 0.7581\n",
      "Epoch 5/20\n",
      "551/551 [==============================] - 31s 57ms/step - loss: 0.5235 - accuracy: 0.7913 - val_loss: 0.5536 - val_accuracy: 0.7581\n",
      "Epoch 6/20\n",
      "551/551 [==============================] - 31s 56ms/step - loss: 0.5336 - accuracy: 0.7913 - val_loss: 0.5587 - val_accuracy: 0.7581\n",
      "Epoch 7/20\n",
      "551/551 [==============================] - 31s 56ms/step - loss: 0.5276 - accuracy: 0.7913 - val_loss: 0.5530 - val_accuracy: 0.7581\n",
      "Epoch 8/20\n",
      "551/551 [==============================] - 32s 58ms/step - loss: 0.5259 - accuracy: 0.7913 - val_loss: 0.5542 - val_accuracy: 0.7581\n",
      "Epoch 9/20\n",
      "551/551 [==============================] - 31s 57ms/step - loss: 0.5278 - accuracy: 0.7913 - val_loss: 0.5561 - val_accuracy: 0.7581\n",
      "Epoch 10/20\n",
      "551/551 [==============================] - 30s 55ms/step - loss: 0.5345 - accuracy: 0.7913 - val_loss: 0.5631 - val_accuracy: 0.7581\n",
      "Epoch 11/20\n",
      "551/551 [==============================] - 31s 56ms/step - loss: 0.5234 - accuracy: 0.7913 - val_loss: 0.5575 - val_accuracy: 0.7581\n",
      "Epoch 12/20\n",
      "551/551 [==============================] - 32s 57ms/step - loss: 0.5196 - accuracy: 0.7913 - val_loss: 0.5604 - val_accuracy: 0.7581\n",
      "Epoch 13/20\n",
      "551/551 [==============================] - 30s 55ms/step - loss: 0.5238 - accuracy: 0.7913 - val_loss: 0.5529 - val_accuracy: 0.7581\n",
      "Epoch 14/20\n",
      "551/551 [==============================] - 31s 56ms/step - loss: 0.5225 - accuracy: 0.7913 - val_loss: 0.5532 - val_accuracy: 0.7581\n",
      "Epoch 15/20\n",
      "551/551 [==============================] - 30s 54ms/step - loss: 0.5174 - accuracy: 0.7913 - val_loss: 0.5551 - val_accuracy: 0.7581\n",
      "Epoch 16/20\n",
      "551/551 [==============================] - 31s 57ms/step - loss: 0.5230 - accuracy: 0.7913 - val_loss: 0.5552 - val_accuracy: 0.7581\n",
      "Epoch 17/20\n",
      "551/551 [==============================] - 30s 55ms/step - loss: 0.5330 - accuracy: 0.7913 - val_loss: 0.5537 - val_accuracy: 0.7581\n",
      "Epoch 18/20\n",
      "551/551 [==============================] - 30s 55ms/step - loss: 0.5183 - accuracy: 0.7913 - val_loss: 0.5557 - val_accuracy: 0.7581\n",
      "Epoch 19/20\n",
      "551/551 [==============================] - 31s 57ms/step - loss: 0.5201 - accuracy: 0.7913 - val_loss: 0.5531 - val_accuracy: 0.7581\n",
      "Epoch 20/20\n",
      "551/551 [==============================] - 31s 57ms/step - loss: 0.5206 - accuracy: 0.7913 - val_loss: 0.5538 - val_accuracy: 0.7581\n"
     ]
    }
   ],
   "source": [
    "checkpoint = ModelCheckpoint('model-{epoch:03d}.h5',monitor='val_loss',verbose=0,save_best_only=True,mode='auto',save_weights_only=True)\n",
    "history=model.fit(train_data,train_target,epochs=20,callbacks=[checkpoint],validation_split=0.1)\n"
   ]
  },
  {
   "cell_type": "code",
   "execution_count": 14,
   "metadata": {},
   "outputs": [
    {
     "data": {
      "image/png": "[encoded data removed]",
      "text/plain": [
       "<Figure size 432x288 with 1 Axes>"
      ]
     },
     "metadata": {
      "needs_background": "light"
     },
     "output_type": "display_data"
    }
   ],
   "source": [
    "from matplotlib import pyplot as plt\n",
    "\n",
    "plt.plot(history.history['loss'],'r',label='training loss')\n",
    "plt.plot(history.history['val_loss'],label='validation loss')\n",
    "plt.xlabel('# epochs')\n",
    "plt.ylabel('loss')\n",
    "plt.legend()\n",
    "plt.show()"
   ]
  },
  {
   "cell_type": "code",
   "execution_count": 15,
   "metadata": {},
   "outputs": [
    {
     "data": {
      "image/png": "[encoded data removed]",
      "text/plain": [
       "<Figure size 432x288 with 1 Axes>"
      ]
     },
     "metadata": {
      "needs_background": "light"
     },
     "output_type": "display_data"
    }
   ],
   "source": [
    "plt.plot(history.history['accuracy'],'r',label='training accuracy')\n",
    "plt.plot(history.history['val_accuracy'],label='validation accuracy')\n",
    "plt.xlabel('# epochs')\n",
    "plt.ylabel('loss')\n",
    "plt.legend()\n",
    "plt.show()"
   ]
  },
  {
   "cell_type": "code",
   "execution_count": 16,
   "metadata": {},
   "outputs": [
    {
     "name": "stdout",
     "output_type": "stream",
     "text": [
      "69/69 [==============================] - 1s 9ms/step\n",
      "[0.5053506778634113, 0.7971014380455017]\n"
     ]
    }
   ],
   "source": [
    "print(model.evaluate(test_data,test_target))"
   ]
  },
  {
   "cell_type": "code",
   "execution_count": null,
   "metadata": {},
   "outputs": [],
   "source": []
  },
  {
   "cell_type": "code",
   "execution_count": null,
   "metadata": {},
   "outputs": [],
   "source": []
  },
  {
   "cell_type": "code",
   "execution_count": null,
   "metadata": {},
   "outputs": [],
   "source": []
  }
 ],
 "metadata": {
  "kernelspec": {
   "display_name": "Python 3",
   "language": "python",
   "name": "python3"
  },
  "language_info": {
   "codemirror_mode": {
    "name": "ipython",
    "version": 3
   },
   "file_extension": ".py",
   "mimetype": "text/x-python",
   "name": "python",
   "nbconvert_exporter": "python",
   "pygments_lexer": "ipython3",
   "version": "3.7.6"
  }
 },
 "nbformat": 4,
 "nbformat_minor": 4
}
